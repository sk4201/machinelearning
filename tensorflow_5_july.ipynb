{
  "nbformat": 4,
  "nbformat_minor": 0,
  "metadata": {
    "colab": {
      "name": "tensorflow-5-july.ipynb",
      "version": "0.3.2",
      "provenance": [],
      "collapsed_sections": [],
      "include_colab_link": true
    },
    "kernelspec": {
      "name": "python3",
      "display_name": "Python 3"
    }
  },
  "cells": [
    {
      "cell_type": "markdown",
      "metadata": {
        "id": "view-in-github",
        "colab_type": "text"
      },
      "source": [
        "<a href=\"https://colab.research.google.com/github/sk4201/machinelearning/blob/master/tensorflow_5_july.ipynb\" target=\"_parent\"><img src=\"https://colab.research.google.com/assets/colab-badge.svg\" alt=\"Open In Colab\"/></a>"
      ]
    },
    {
      "cell_type": "markdown",
      "metadata": {
        "id": "BqWl4l7_jH36",
        "colab_type": "text"
      },
      "source": [
        "### TensorFlow\n",
        "Tensorflow------------------------->Dimensions\n",
        "\n",
        "in the tenserflow we can assingn  the equation to gpu"
      ]
    },
    {
      "cell_type": "code",
      "metadata": {
        "id": "Ie50TBvojE5r",
        "colab_type": "code",
        "outputId": "ce5de2b4-a5a2-48aa-c2b4-8b3f25a2a884",
        "colab": {
          "base_uri": "https://localhost:8080/",
          "height": 119
        }
      },
      "source": [
        "#sudo pip3 install tenserflow\n",
        "\n",
        "!pip3 list | grep -i tensorflow"
      ],
      "execution_count": 0,
      "outputs": [
        {
          "output_type": "stream",
          "text": [
            "mesh-tensorflow          0.0.5                \n",
            "tensorflow               1.14.0               \n",
            "tensorflow-estimator     1.14.0               \n",
            "tensorflow-hub           0.4.0                \n",
            "tensorflow-metadata      0.13.0               \n",
            "tensorflow-probability   0.7.0                \n"
          ],
          "name": "stdout"
        }
      ]
    },
    {
      "cell_type": "code",
      "metadata": {
        "id": "o8Suyei-k4_r",
        "colab_type": "code",
        "colab": {}
      },
      "source": [
        "import tensorflow as tf"
      ],
      "execution_count": 0,
      "outputs": []
    },
    {
      "cell_type": "markdown",
      "metadata": {
        "id": "I5erkfIqlr66",
        "colab_type": "text"
      },
      "source": [
        "Tensorflow we take data by this method\n",
        "1-constant--------------->fixed value assign as first time\n",
        "2-placeholder------------->Runtime user input\n",
        "3-variables"
      ]
    },
    {
      "cell_type": "code",
      "metadata": {
        "id": "9HGwcsLLlhnM",
        "colab_type": "code",
        "colab": {}
      },
      "source": [
        "# to assign fix value in tenserflow  we need to define constant\n",
        "x=tf.constant(30) # this is the single value constant\n"
      ],
      "execution_count": 0,
      "outputs": []
    },
    {
      "cell_type": "code",
      "metadata": {
        "id": "uViCHqLjn1eV",
        "colab_type": "code",
        "colab": {}
      },
      "source": [
        "#x=tf.constant([3,40,50]) # this is the multi value constant"
      ],
      "execution_count": 0,
      "outputs": []
    },
    {
      "cell_type": "code",
      "metadata": {
        "id": "qSLR35cRn-SI",
        "colab_type": "code",
        "outputId": "8859e649-f8e7-415c-b3a4-b3a6939d1c97",
        "colab": {
          "base_uri": "https://localhost:8080/",
          "height": 34
        }
      },
      "source": [
        "#type of x\n",
        "type(x)"
      ],
      "execution_count": 0,
      "outputs": [
        {
          "output_type": "execute_result",
          "data": {
            "text/plain": [
              "tensorflow.python.framework.ops.Tensor"
            ]
          },
          "metadata": {
            "tags": []
          },
          "execution_count": 5
        }
      ]
    },
    {
      "cell_type": "code",
      "metadata": {
        "id": "OdqhKShCoEKI",
        "colab_type": "code",
        "colab": {}
      },
      "source": [
        "#y\n",
        "y=tf.constant(20)\n"
      ],
      "execution_count": 0,
      "outputs": []
    },
    {
      "cell_type": "code",
      "metadata": {
        "id": "u6cuVBW9oX8m",
        "colab_type": "code",
        "colab": {}
      },
      "source": [
        "# equation\n",
        "z=x+y # new tensor ------- z equation compile and store and wait for resources\n",
        "\n",
        "#CPU, GPU ,TPU\n"
      ],
      "execution_count": 0,
      "outputs": []
    },
    {
      "cell_type": "code",
      "metadata": {
        "id": "Mzg5-KiCo_ib",
        "colab_type": "code",
        "colab": {}
      },
      "source": [
        "# we have another method to add the  same \n",
        "z1=tf.add(x,y)"
      ],
      "execution_count": 0,
      "outputs": []
    },
    {
      "cell_type": "code",
      "metadata": {
        "id": "TitKT3xnz1Z3",
        "colab_type": "code",
        "colab": {}
      },
      "source": [
        "# now time for assigning rescurces to our equation\n",
        "sess=tf.Session() # connect ,cpu, Gpu tpu"
      ],
      "execution_count": 0,
      "outputs": []
    },
    {
      "cell_type": "code",
      "metadata": {
        "id": "oshRrxG40Geo",
        "colab_type": "code",
        "colab": {}
      },
      "source": [
        "# now we can run  our equation\n",
        "output=sess.run(z)"
      ],
      "execution_count": 0,
      "outputs": []
    },
    {
      "cell_type": "code",
      "metadata": {
        "id": "7Xc3F-b40Mj-",
        "colab_type": "code",
        "outputId": "6d9e2e5c-4df2-49be-f8ff-2751b06ba1ad",
        "colab": {
          "base_uri": "https://localhost:8080/",
          "height": 34
        }
      },
      "source": [
        "output"
      ],
      "execution_count": 0,
      "outputs": [
        {
          "output_type": "execute_result",
          "data": {
            "text/plain": [
              "50"
            ]
          },
          "metadata": {
            "tags": []
          },
          "execution_count": 11
        }
      ]
    },
    {
      "cell_type": "code",
      "metadata": {
        "id": "JejXe_Kp0WSM",
        "colab_type": "code",
        "colab": {}
      },
      "source": [
        "# clossing session\n",
        "sess.close()"
      ],
      "execution_count": 0,
      "outputs": []
    },
    {
      "cell_type": "code",
      "metadata": {
        "id": "PhnYkRec0jh9",
        "colab_type": "code",
        "colab": {}
      },
      "source": [
        "# we can perform same task in another way\n",
        "with tf.Session() as sess:\n",
        "  output1=sess.run(z)\n",
        "#  tf.Summary.FileWriter('graph',output1)"
      ],
      "execution_count": 0,
      "outputs": []
    },
    {
      "cell_type": "code",
      "metadata": {
        "id": "FeKyMLw1027X",
        "colab_type": "code",
        "outputId": "121c6156-e8c3-4d67-d72d-b64940663656",
        "colab": {
          "base_uri": "https://localhost:8080/",
          "height": 34
        }
      },
      "source": [
        "output1"
      ],
      "execution_count": 0,
      "outputs": [
        {
          "output_type": "execute_result",
          "data": {
            "text/plain": [
              "50"
            ]
          },
          "metadata": {
            "tags": []
          },
          "execution_count": 14
        }
      ]
    },
    {
      "cell_type": "markdown",
      "metadata": {
        "id": "3uqcKLNh3S5x",
        "colab_type": "text"
      },
      "source": [
        "### PLACEHOLDER"
      ]
    },
    {
      "cell_type": "code",
      "metadata": {
        "id": "vlyEQX8P1DQq",
        "colab_type": "code",
        "colab": {}
      },
      "source": [
        "#  first place holder\n",
        "p1=tf.placeholder(tf.int32)"
      ],
      "execution_count": 0,
      "outputs": []
    },
    {
      "cell_type": "code",
      "metadata": {
        "id": "u5wyXlWM3jwx",
        "colab_type": "code",
        "colab": {}
      },
      "source": [
        "# placehoder 2\n",
        "p2=tf.placeholder(tf.int32)"
      ],
      "execution_count": 0,
      "outputs": []
    },
    {
      "cell_type": "code",
      "metadata": {
        "id": "--TIRvtN30J3",
        "colab_type": "code",
        "colab": {}
      },
      "source": [
        "# general\n",
        "sum1=p1+p2"
      ],
      "execution_count": 0,
      "outputs": []
    },
    {
      "cell_type": "code",
      "metadata": {
        "id": "LfyH-kzK35Y-",
        "colab_type": "code",
        "colab": {}
      },
      "source": [
        "# time for creating  session\n",
        "with tf.Session() as sess:\n",
        "  output2=sess.run(sum1,{p1:[3,6],p2:[5,8]})\n",
        "  "
      ],
      "execution_count": 0,
      "outputs": []
    },
    {
      "cell_type": "code",
      "metadata": {
        "id": "oUd6y0ZE4gWr",
        "colab_type": "code",
        "outputId": "ba43c5b6-4fa1-4f7d-a4c7-2c9cd174f6e3",
        "colab": {
          "base_uri": "https://localhost:8080/",
          "height": 34
        }
      },
      "source": [
        "output2"
      ],
      "execution_count": 0,
      "outputs": [
        {
          "output_type": "execute_result",
          "data": {
            "text/plain": [
              "array([ 8, 14], dtype=int32)"
            ]
          },
          "metadata": {
            "tags": []
          },
          "execution_count": 19
        }
      ]
    },
    {
      "cell_type": "code",
      "metadata": {
        "id": "P5P80_5-4ntu",
        "colab_type": "code",
        "colab": {}
      },
      "source": [
        ""
      ],
      "execution_count": 0,
      "outputs": []
    }
  ]
}