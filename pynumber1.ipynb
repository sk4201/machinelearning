{
  "nbformat": 4,
  "nbformat_minor": 0,
  "metadata": {
    "colab": {
      "name": "pynumber1.ipynb",
      "version": "0.3.2",
      "provenance": [],
      "include_colab_link": true
    },
    "kernelspec": {
      "name": "python3",
      "display_name": "Python 3"
    }
  },
  "cells": [
    {
      "cell_type": "markdown",
      "metadata": {
        "id": "view-in-github",
        "colab_type": "text"
      },
      "source": [
        "<a href=\"https://colab.research.google.com/github/sk4201/machinelearning/blob/master/pynumber1.ipynb\" target=\"_parent\"><img src=\"https://colab.research.google.com/assets/colab-badge.svg\" alt=\"Open In Colab\"/></a>"
      ]
    },
    {
      "cell_type": "code",
      "metadata": {
        "id": "upN8JbnwwTeI",
        "colab_type": "code",
        "colab": {}
      },
      "source": [
        "#create 2D numpy  based array with given conditions:\n",
        "\n",
        "#i)   take input from user in terms of dimension like (3x2 or 6x7)\n",
        "#ii)   fill this numpy array with random number\n",
        "#iii)  store this array in a file"
      ],
      "execution_count": 0,
      "outputs": []
    },
    {
      "cell_type": "code",
      "metadata": {
        "id": "3E_LXGEFwg9A",
        "colab_type": "code",
        "colab": {}
      },
      "source": [
        "import numpy as np   "
      ],
      "execution_count": 0,
      "outputs": []
    },
    {
      "cell_type": "code",
      "metadata": {
        "id": "zCMjjTG_wmW7",
        "colab_type": "code",
        "colab": {
          "base_uri": "https://localhost:8080/",
          "height": 51
        },
        "outputId": "ccfaaa15-d9e6-4302-937b-70d84bade76a"
      },
      "source": [
        "# A basic code for matrix input from user \n",
        "  \n",
        "R = int(input(\"Enter the number of rows:\")) \n",
        "C = int(input(\"Enter the number of columns:\")) "
      ],
      "execution_count": 14,
      "outputs": [
        {
          "output_type": "stream",
          "text": [
            "Enter the number of rows:3\n",
            "Enter the number of columns:2\n"
          ],
          "name": "stdout"
        }
      ]
    },
    {
      "cell_type": "code",
      "metadata": {
        "id": "0FQNLMQYwvEn",
        "colab_type": "code",
        "colab": {
          "base_uri": "https://localhost:8080/",
          "height": 187
        },
        "outputId": "984f523d-01e1-4da0-e248-47a24f04f130"
      },
      "source": [
        "matrix = [] \n",
        "print(\"Enter the entries rowwise:\") \n",
        "  \n",
        "# For user input \n",
        "for i in range(R):          # A for loop for row entries \n",
        "    a =[] \n",
        "    for j in range(C):      # A for loop for column entries \n",
        "         a.append(int(input())) \n",
        "    matrix.append(a) \n",
        "  \n",
        "# For printing the matrix \n",
        "for i in range(R): \n",
        "    for j in range(C): \n",
        "        print(matrix[i][j], end = \" \") \n",
        "    print() "
      ],
      "execution_count": 15,
      "outputs": [
        {
          "output_type": "stream",
          "text": [
            "Enter the entries rowwise:\n",
            "1\n",
            "2\n",
            "3\n",
            "4\n",
            "5\n",
            "6\n",
            "1 2 \n",
            "3 4 \n",
            "5 6 \n"
          ],
          "name": "stdout"
        }
      ]
    },
    {
      "cell_type": "code",
      "metadata": {
        "id": "rPK9Jyssx9BT",
        "colab_type": "code",
        "colab": {
          "base_uri": "https://localhost:8080/",
          "height": 68
        },
        "outputId": "dcb74316-a4e9-4ed8-8b24-26a1edf74f8e"
      },
      "source": [
        "store=np.random.rand(R,C)\n",
        "#printing array to a csv file named array.csv \n",
        "np.savetxt(\"array.csv\", store, delimiter=\",\")\n",
        "#printing  array stored in storefile.\n",
        "print(store)"
      ],
      "execution_count": 16,
      "outputs": [
        {
          "output_type": "stream",
          "text": [
            "[[0.86990794 0.7642486 ]\n",
            " [0.88109958 0.12341046]\n",
            " [0.61476128 0.02348541]]\n"
          ],
          "name": "stdout"
        }
      ]
    },
    {
      "cell_type": "code",
      "metadata": {
        "id": "uKOvy4GSzX09",
        "colab_type": "code",
        "colab": {}
      },
      "source": [
        ""
      ],
      "execution_count": 0,
      "outputs": []
    }
  ]
}