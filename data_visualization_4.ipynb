{
  "nbformat": 4,
  "nbformat_minor": 0,
  "metadata": {
    "colab": {
      "name": "data_visualization_4.ipynb",
      "version": "0.3.2",
      "provenance": [],
      "collapsed_sections": [],
      "include_colab_link": true
    },
    "kernelspec": {
      "name": "python3",
      "display_name": "Python 3"
    }
  },
  "cells": [
    {
      "cell_type": "markdown",
      "metadata": {
        "id": "view-in-github",
        "colab_type": "text"
      },
      "source": [
        "<a href=\"https://colab.research.google.com/github/sk4201/machinelearning/blob/Supervised/data_visualization_4.ipynb\" target=\"_parent\"><img src=\"https://colab.research.google.com/assets/colab-badge.svg\" alt=\"Open In Colab\"/></a>"
      ]
    },
    {
      "cell_type": "markdown",
      "metadata": {
        "id": "g9CLguXP1hPQ",
        "colab_type": "text"
      },
      "source": [
        "\n",
        "write the code will follow conditions\n",
        "\n",
        "i)   scrape data of  the url  https://en.wikipedia.org/wiki/Machine_learning\n",
        "ii)  count  all the words after scraping\n",
        "iii) plot the pie and bar plot of top 20 repeated words\n",
        "iv)  plot scatter graph of  all the words having presence more 3 times  in scraped data\n",
        "v)   show stack plot of all the links that are present in above URL\n",
        "\n",
        "\n"
      ]
    },
    {
      "cell_type": "code",
      "metadata": {
        "id": "m6k_ldOco1j8",
        "colab_type": "code",
        "colab": {}
      },
      "source": [
        "import requests\n",
        "from bs4 import BeautifulSoup\n",
        "from nltk import word_tokenize\n",
        "from nltk.tokenize import RegexpTokenizer\n",
        "import matplotlib.pyplot as plt"
      ],
      "execution_count": 0,
      "outputs": []
    },
    {
      "cell_type": "code",
      "metadata": {
        "id": "mN70OFzrpBap",
        "colab_type": "code",
        "colab": {}
      },
      "source": [
        "# Make the request and check object type\n",
        "r = requests.get('https://en.wikipedia.org/wiki/Machine_learning')"
      ],
      "execution_count": 0,
      "outputs": []
    },
    {
      "cell_type": "code",
      "metadata": {
        "id": "FS60OImcpHSp",
        "colab_type": "code",
        "colab": {}
      },
      "source": [
        "# Extract HTML from Response object and print\n",
        "html = r.text"
      ],
      "execution_count": 0,
      "outputs": []
    },
    {
      "cell_type": "code",
      "metadata": {
        "id": "sG9LZjjmpKd8",
        "colab_type": "code",
        "colab": {}
      },
      "source": [
        "# Create a BeautifulSoup object from the HTML\n",
        "soup = BeautifulSoup(html, \"html5lib\")"
      ],
      "execution_count": 0,
      "outputs": []
    },
    {
      "cell_type": "code",
      "metadata": {
        "id": "K2IVCvdMpMh4",
        "colab_type": "code",
        "colab": {}
      },
      "source": [
        "# Get the text out of the soup and print it\n",
        "text = soup.get_text()"
      ],
      "execution_count": 0,
      "outputs": []
    },
    {
      "cell_type": "code",
      "metadata": {
        "id": "cyovPNvRpP24",
        "colab_type": "code",
        "colab": {
          "base_uri": "https://localhost:8080/",
          "height": 214
        },
        "outputId": "d577595e-2024-4026-e472-b433966dc383"
      },
      "source": [
        "# Create tokenizer\n",
        "tokenizer = RegexpTokenizer('\\w+')\n",
        "#create tokens\n",
        "word_list = tokenizer.tokenize(text)\n",
        "# create fequent distance and plot\n",
        "words = nltk.FreqDist(word_list)\n",
        "words"
      ],
      "execution_count": 39,
      "outputs": [
        {
          "output_type": "error",
          "ename": "NameError",
          "evalue": "ignored",
          "traceback": [
            "\u001b[0;31m---------------------------------------------------------------------------\u001b[0m",
            "\u001b[0;31mNameError\u001b[0m                                 Traceback (most recent call last)",
            "\u001b[0;32m<ipython-input-39-54bf7de0fbf7>\u001b[0m in \u001b[0;36m<module>\u001b[0;34m()\u001b[0m\n\u001b[1;32m      3\u001b[0m \u001b[0mword_list\u001b[0m \u001b[0;34m=\u001b[0m \u001b[0mtokenizer\u001b[0m\u001b[0;34m.\u001b[0m\u001b[0mtokenize\u001b[0m\u001b[0;34m(\u001b[0m\u001b[0mtext\u001b[0m\u001b[0;34m)\u001b[0m\u001b[0;34m\u001b[0m\u001b[0;34m\u001b[0m\u001b[0m\n\u001b[1;32m      4\u001b[0m \u001b[0;31m# create fequent distance and plot\u001b[0m\u001b[0;34m\u001b[0m\u001b[0;34m\u001b[0m\u001b[0;34m\u001b[0m\u001b[0m\n\u001b[0;32m----> 5\u001b[0;31m \u001b[0mwords\u001b[0m \u001b[0;34m=\u001b[0m \u001b[0mnltk\u001b[0m\u001b[0;34m.\u001b[0m\u001b[0mFreqDist\u001b[0m\u001b[0;34m(\u001b[0m\u001b[0mword_list\u001b[0m\u001b[0;34m)\u001b[0m\u001b[0;34m\u001b[0m\u001b[0;34m\u001b[0m\u001b[0m\n\u001b[0m\u001b[1;32m      6\u001b[0m \u001b[0mwords\u001b[0m\u001b[0;34m\u001b[0m\u001b[0;34m\u001b[0m\u001b[0m\n",
            "\u001b[0;31mNameError\u001b[0m: name 'nltk' is not defined"
          ]
        }
      ]
    },
    {
      "cell_type": "code",
      "metadata": {
        "id": "0sOvWfuopTsX",
        "colab_type": "code",
        "colab": {}
      },
      "source": [
        "\n",
        "words.plot(20)"
      ],
      "execution_count": 0,
      "outputs": []
    },
    {
      "cell_type": "code",
      "metadata": {
        "id": "O6bSbp91qXJA",
        "colab_type": "code",
        "colab": {}
      },
      "source": [
        "from collections  import Counter\n",
        "c= Counter(words)\n"
      ],
      "execution_count": 0,
      "outputs": []
    },
    {
      "cell_type": "code",
      "metadata": {
        "id": "VMAfCUbcq8QZ",
        "colab_type": "code",
        "colab": {}
      },
      "source": [
        "top=c.most_common(20)\n",
        "x,y=zip(*top)\n",
        "plt.pie(y,labels=x, shadow=True, autopct=\"%d%%\")"
      ],
      "execution_count": 0,
      "outputs": []
    },
    {
      "cell_type": "code",
      "metadata": {
        "id": "9pGynlwiq9mU",
        "colab_type": "code",
        "colab": {}
      },
      "source": [
        ""
      ],
      "execution_count": 0,
      "outputs": []
    }
  ]
}